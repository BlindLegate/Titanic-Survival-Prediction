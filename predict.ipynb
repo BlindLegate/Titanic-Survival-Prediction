{
 "cells": [
  {
   "cell_type": "markdown",
   "metadata": {},
   "source": [
    "<b>Author:</b> Taha Çinkılıç"
   ]
  },
  {
   "cell_type": "code",
   "execution_count": 53,
   "metadata": {},
   "outputs": [],
   "source": [
    "import pandas as pd\n",
    "from sklearn.impute import SimpleImputer\n",
    "from sklearn.preprocessing import OrdinalEncoder, MinMaxScaler\n",
    "from sklearn import metrics\n",
    "from sklearn import svm"
   ]
  },
  {
   "cell_type": "code",
   "execution_count": 54,
   "metadata": {},
   "outputs": [],
   "source": [
    "train = pd.read_csv(\"train.csv\") #Reading train dataset\n",
    "test = pd.read_csv(\"test.csv\") #Reading test dataset\n",
    "genderSubmission = pd.read_csv(\"gender_submission.csv\") #Reading submission file"
   ]
  },
  {
   "cell_type": "code",
   "execution_count": 55,
   "metadata": {},
   "outputs": [
    {
     "data": {
      "text/plain": [
       "PassengerId      0\n",
       "Pclass           0\n",
       "Name             0\n",
       "Sex              0\n",
       "Age             86\n",
       "SibSp            0\n",
       "Parch            0\n",
       "Ticket           0\n",
       "Fare             1\n",
       "Cabin          327\n",
       "Embarked         0\n",
       "dtype: int64"
      ]
     },
     "execution_count": 55,
     "metadata": {},
     "output_type": "execute_result"
    }
   ],
   "source": [
    "test.isnull().sum() #NULL value check"
   ]
  },
  {
   "cell_type": "code",
   "execution_count": 56,
   "metadata": {},
   "outputs": [
    {
     "data": {
      "text/plain": [
       "PassengerId      0\n",
       "Survived         0\n",
       "Pclass           0\n",
       "Name             0\n",
       "Sex              0\n",
       "Age            177\n",
       "SibSp            0\n",
       "Parch            0\n",
       "Ticket           0\n",
       "Fare             0\n",
       "Cabin          687\n",
       "Embarked         2\n",
       "dtype: int64"
      ]
     },
     "execution_count": 56,
     "metadata": {},
     "output_type": "execute_result"
    }
   ],
   "source": [
    "train.isnull().sum() #NULL value check"
   ]
  },
  {
   "cell_type": "code",
   "execution_count": 57,
   "metadata": {},
   "outputs": [],
   "source": [
    "train.drop(columns = [\"PassengerId\", \"Name\", \"Cabin\", \"Ticket\", \"Fare\"], inplace= True) #Dropping unnecessary columns\n",
    "test.drop(columns = [\"PassengerId\", \"Name\", \"Cabin\", \"Ticket\", \"Fare\"], inplace= True) #Dropping unnecessary columns"
   ]
  },
  {
   "cell_type": "code",
   "execution_count": 58,
   "metadata": {},
   "outputs": [],
   "source": [
    "imp = SimpleImputer() #Defining an imputer\n",
    "fitAgeImp = imp.fit(train[[\"Age\"]]) #Fitting defined imputer\n",
    "train[\"Age\"] = fitAgeImp.transform(train[[\"Age\"]]) #Transforming defined imputer\n",
    "test[\"Age\"] = fitAgeImp.transform(test[[\"Age\"]]) #Transforming defined imputer"
   ]
  },
  {
   "cell_type": "code",
   "execution_count": 59,
   "metadata": {},
   "outputs": [],
   "source": [
    "enc = OrdinalEncoder() #Defining an encoder\n",
    "fitEmbEnc = enc.fit(train[[\"Embarked\"]]) #Fitting defined encoder\n",
    "train[\"Embarked\"] = fitEmbEnc.transform(train[[\"Embarked\"]]) #Transforming defined encoder\n",
    "test[\"Embarked\"] = fitEmbEnc.transform(test[[\"Embarked\"]]) #Transforming defined encoder"
   ]
  },
  {
   "cell_type": "code",
   "execution_count": 60,
   "metadata": {},
   "outputs": [],
   "source": [
    "fitSexEnc = enc.fit(train[[\"Sex\"]]) #Fitting defined encoder\n",
    "train[\"Sex\"] = fitSexEnc.transform(train[[\"Sex\"]]) #Transforming defined encoder\n",
    "test[\"Sex\"] = fitSexEnc.transform(test[[\"Sex\"]]) #Transforming defined encoder"
   ]
  },
  {
   "cell_type": "code",
   "execution_count": 61,
   "metadata": {},
   "outputs": [],
   "source": [
    "fitEmbImp = imp.fit(train[[\"Embarked\"]]) #Fitting defined imputer\n",
    "train[\"Embarked\"] = fitEmbImp.transform(train[[\"Embarked\"]]) #Transforming defined imputer"
   ]
  },
  {
   "cell_type": "code",
   "execution_count": 62,
   "metadata": {},
   "outputs": [],
   "source": [
    "scal = MinMaxScaler() #Defining a scaler\n",
    "fitAgeScal = scal.fit(train[[\"Age\"]]) #Fitting defined scaler\n",
    "train[\"Age\"] = fitAgeScal.transform(train[[\"Age\"]]) #Transforming defined scaler\n",
    "test[\"Age\"] = fitAgeScal.transform(test[[\"Age\"]]) #Transforming defined scaler"
   ]
  },
  {
   "cell_type": "code",
   "execution_count": 63,
   "metadata": {},
   "outputs": [
    {
     "data": {
      "text/plain": [
       "Pclass      0\n",
       "Sex         0\n",
       "Age         0\n",
       "SibSp       0\n",
       "Parch       0\n",
       "Embarked    0\n",
       "dtype: int64"
      ]
     },
     "execution_count": 63,
     "metadata": {},
     "output_type": "execute_result"
    }
   ],
   "source": [
    "test.isnull().sum() #NULL value check"
   ]
  },
  {
   "cell_type": "code",
   "execution_count": 64,
   "metadata": {},
   "outputs": [
    {
     "data": {
      "text/plain": [
       "Survived    0\n",
       "Pclass      0\n",
       "Sex         0\n",
       "Age         0\n",
       "SibSp       0\n",
       "Parch       0\n",
       "Embarked    0\n",
       "dtype: int64"
      ]
     },
     "execution_count": 64,
     "metadata": {},
     "output_type": "execute_result"
    }
   ],
   "source": [
    "train.isnull().sum() #NULL value check"
   ]
  },
  {
   "cell_type": "code",
   "execution_count": 66,
   "metadata": {},
   "outputs": [],
   "source": [
    "y = train.pop(\"Survived\") #Target\n",
    "X = train[train.columns] #Features"
   ]
  },
  {
   "cell_type": "code",
   "execution_count": 67,
   "metadata": {},
   "outputs": [],
   "source": [
    "model = svm.SVC().fit(X,y) #Creating a model"
   ]
  },
  {
   "cell_type": "code",
   "execution_count": 68,
   "metadata": {},
   "outputs": [
    {
     "data": {
      "text/plain": [
       "0.9784688995215312"
      ]
     },
     "execution_count": 68,
     "metadata": {},
     "output_type": "execute_result"
    }
   ],
   "source": [
    "metrics.accuracy_score(genderSubmission[\"Survived\"], model.predict(test)) #Getting an accuracy score"
   ]
  }
 ],
 "metadata": {
  "kernelspec": {
   "display_name": "Python 3.9.7 64-bit",
   "language": "python",
   "name": "python3"
  },
  "language_info": {
   "codemirror_mode": {
    "name": "ipython",
    "version": 3
   },
   "file_extension": ".py",
   "mimetype": "text/x-python",
   "name": "python",
   "nbconvert_exporter": "python",
   "pygments_lexer": "ipython3",
   "version": "3.9.7"
  },
  "orig_nbformat": 4,
  "vscode": {
   "interpreter": {
    "hash": "11938c6bc6919ae2720b4d5011047913343b08a43b18698fd82dedb0d4417594"
   }
  }
 },
 "nbformat": 4,
 "nbformat_minor": 2
}
